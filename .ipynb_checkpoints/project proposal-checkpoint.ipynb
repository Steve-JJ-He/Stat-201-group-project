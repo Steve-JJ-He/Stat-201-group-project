{
 "cells": [
  {
   "cell_type": "markdown",
   "id": "837d6c17-f4ed-471a-8eac-5ce083572bd5",
   "metadata": {},
   "source": [
    "### Introduction"
   ]
  },
  {
   "cell_type": "code",
   "execution_count": 1,
   "id": "1d9872b3-50da-48c7-91f1-d63eb6297d96",
   "metadata": {},
   "outputs": [
    {
     "name": "stderr",
     "output_type": "stream",
     "text": [
      "── \u001b[1mAttaching packages\u001b[22m ─────────────────────────────────────── tidyverse 1.3.2 ──\n",
      "\u001b[32m✔\u001b[39m \u001b[34mggplot2\u001b[39m 3.3.6      \u001b[32m✔\u001b[39m \u001b[34mpurrr  \u001b[39m 0.3.4 \n",
      "\u001b[32m✔\u001b[39m \u001b[34mtibble \u001b[39m 3.1.8      \u001b[32m✔\u001b[39m \u001b[34mdplyr  \u001b[39m 1.0.10\n",
      "\u001b[32m✔\u001b[39m \u001b[34mtidyr  \u001b[39m 1.2.1      \u001b[32m✔\u001b[39m \u001b[34mstringr\u001b[39m 1.4.1 \n",
      "\u001b[32m✔\u001b[39m \u001b[34mreadr  \u001b[39m 2.1.2      \u001b[32m✔\u001b[39m \u001b[34mforcats\u001b[39m 0.5.2 \n",
      "── \u001b[1mConflicts\u001b[22m ────────────────────────────────────────── tidyverse_conflicts() ──\n",
      "\u001b[31m✖\u001b[39m \u001b[34mdplyr\u001b[39m::\u001b[32mfilter()\u001b[39m masks \u001b[34mstats\u001b[39m::filter()\n",
      "\u001b[31m✖\u001b[39m \u001b[34mdplyr\u001b[39m::\u001b[32mlag()\u001b[39m    masks \u001b[34mstats\u001b[39m::lag()\n",
      "\n",
      "Attaching package: ‘gridExtra’\n",
      "\n",
      "\n",
      "The following object is masked from ‘package:dplyr’:\n",
      "\n",
      "    combine\n",
      "\n",
      "\n"
     ]
    }
   ],
   "source": [
    "library(tidyverse)\n",
    "library(datateachr)\n",
    "library(repr)\n",
    "library(digest)\n",
    "library(infer)\n",
    "library(grid)\n",
    "library(gridExtra)\n",
    "library(ggplot2)"
   ]
  },
  {
   "cell_type": "code",
   "execution_count": 2,
   "id": "624d7bc3-39d4-4f5a-8b08-5a339df943e5",
   "metadata": {},
   "outputs": [
    {
     "data": {
      "text/html": [
       "<table class=\"dataframe\">\n",
       "<caption>A data.frame: 6 × 37</caption>\n",
       "<thead>\n",
       "\t<tr><th></th><th scope=col>datetime</th><th scope=col>Vancouver</th><th scope=col>Portland</th><th scope=col>San.Francisco</th><th scope=col>Seattle</th><th scope=col>Los.Angeles</th><th scope=col>San.Diego</th><th scope=col>Las.Vegas</th><th scope=col>Phoenix</th><th scope=col>Albuquerque</th><th scope=col>⋯</th><th scope=col>Philadelphia</th><th scope=col>New.York</th><th scope=col>Montreal</th><th scope=col>Boston</th><th scope=col>Beersheba</th><th scope=col>Tel.Aviv.District</th><th scope=col>Eilat</th><th scope=col>Haifa</th><th scope=col>Nahariyya</th><th scope=col>Jerusalem</th></tr>\n",
       "\t<tr><th></th><th scope=col>&lt;chr&gt;</th><th scope=col>&lt;dbl&gt;</th><th scope=col>&lt;dbl&gt;</th><th scope=col>&lt;dbl&gt;</th><th scope=col>&lt;dbl&gt;</th><th scope=col>&lt;dbl&gt;</th><th scope=col>&lt;dbl&gt;</th><th scope=col>&lt;dbl&gt;</th><th scope=col>&lt;dbl&gt;</th><th scope=col>&lt;dbl&gt;</th><th scope=col>⋯</th><th scope=col>&lt;dbl&gt;</th><th scope=col>&lt;dbl&gt;</th><th scope=col>&lt;dbl&gt;</th><th scope=col>&lt;dbl&gt;</th><th scope=col>&lt;dbl&gt;</th><th scope=col>&lt;dbl&gt;</th><th scope=col>&lt;dbl&gt;</th><th scope=col>&lt;dbl&gt;</th><th scope=col>&lt;dbl&gt;</th><th scope=col>&lt;dbl&gt;</th></tr>\n",
       "</thead>\n",
       "<tbody>\n",
       "\t<tr><th scope=row>1</th><td>2012-10-01 12:00:00</td><td>      NA</td><td>      NA</td><td>      NA</td><td>      NA</td><td>      NA</td><td>      NA</td><td>      NA</td><td>      NA</td><td>      NA</td><td>⋯</td><td>      NA</td><td>      NA</td><td>      NA</td><td>      NA</td><td>      NA</td><td>      NA</td><td>309.1000</td><td>   NA</td><td>   NA</td><td>   NA</td></tr>\n",
       "\t<tr><th scope=row>2</th><td>2012-10-01 13:00:00</td><td>284.6300</td><td>282.0800</td><td>289.4800</td><td>281.8000</td><td>291.8700</td><td>291.5300</td><td>293.4100</td><td>296.6000</td><td>285.1200</td><td>⋯</td><td>285.6300</td><td>288.2200</td><td>285.8300</td><td>287.1700</td><td>307.5900</td><td>305.4700</td><td>310.5800</td><td>304.4</td><td>304.4</td><td>303.5</td></tr>\n",
       "\t<tr><th scope=row>3</th><td>2012-10-01 14:00:00</td><td>284.6290</td><td>282.0833</td><td>289.4750</td><td>281.7972</td><td>291.8682</td><td>291.5335</td><td>293.4031</td><td>296.6085</td><td>285.1546</td><td>⋯</td><td>285.6632</td><td>288.2477</td><td>285.8346</td><td>287.1861</td><td>307.5900</td><td>304.3100</td><td>310.4958</td><td>304.4</td><td>304.4</td><td>303.5</td></tr>\n",
       "\t<tr><th scope=row>4</th><td>2012-10-01 15:00:00</td><td>284.6270</td><td>282.0919</td><td>289.4606</td><td>281.7898</td><td>291.8628</td><td>291.5434</td><td>293.3922</td><td>296.6315</td><td>285.2340</td><td>⋯</td><td>285.7568</td><td>288.3269</td><td>285.8478</td><td>287.2317</td><td>307.3915</td><td>304.2818</td><td>310.4115</td><td>304.4</td><td>304.4</td><td>303.5</td></tr>\n",
       "\t<tr><th scope=row>5</th><td>2012-10-01 16:00:00</td><td>284.6250</td><td>282.1005</td><td>289.4462</td><td>281.7824</td><td>291.8575</td><td>291.5532</td><td>293.3812</td><td>296.6545</td><td>285.3133</td><td>⋯</td><td>285.8504</td><td>288.4062</td><td>285.8609</td><td>287.2773</td><td>307.1452</td><td>304.2380</td><td>310.3273</td><td>304.4</td><td>304.4</td><td>303.5</td></tr>\n",
       "\t<tr><th scope=row>6</th><td>2012-10-01 17:00:00</td><td>284.6229</td><td>282.1091</td><td>289.4319</td><td>281.7751</td><td>291.8522</td><td>291.5631</td><td>293.3702</td><td>296.6774</td><td>285.3927</td><td>⋯</td><td>285.9441</td><td>288.4855</td><td>285.8741</td><td>287.3228</td><td>306.8989</td><td>304.1942</td><td>310.2431</td><td>304.4</td><td>304.4</td><td>303.5</td></tr>\n",
       "</tbody>\n",
       "</table>\n"
      ],
      "text/latex": [
       "A data.frame: 6 × 37\n",
       "\\begin{tabular}{r|lllllllllllllllllllll}\n",
       "  & datetime & Vancouver & Portland & San.Francisco & Seattle & Los.Angeles & San.Diego & Las.Vegas & Phoenix & Albuquerque & ⋯ & Philadelphia & New.York & Montreal & Boston & Beersheba & Tel.Aviv.District & Eilat & Haifa & Nahariyya & Jerusalem\\\\\n",
       "  & <chr> & <dbl> & <dbl> & <dbl> & <dbl> & <dbl> & <dbl> & <dbl> & <dbl> & <dbl> & ⋯ & <dbl> & <dbl> & <dbl> & <dbl> & <dbl> & <dbl> & <dbl> & <dbl> & <dbl> & <dbl>\\\\\n",
       "\\hline\n",
       "\t1 & 2012-10-01 12:00:00 &       NA &       NA &       NA &       NA &       NA &       NA &       NA &       NA &       NA & ⋯ &       NA &       NA &       NA &       NA &       NA &       NA & 309.1000 &    NA &    NA &    NA\\\\\n",
       "\t2 & 2012-10-01 13:00:00 & 284.6300 & 282.0800 & 289.4800 & 281.8000 & 291.8700 & 291.5300 & 293.4100 & 296.6000 & 285.1200 & ⋯ & 285.6300 & 288.2200 & 285.8300 & 287.1700 & 307.5900 & 305.4700 & 310.5800 & 304.4 & 304.4 & 303.5\\\\\n",
       "\t3 & 2012-10-01 14:00:00 & 284.6290 & 282.0833 & 289.4750 & 281.7972 & 291.8682 & 291.5335 & 293.4031 & 296.6085 & 285.1546 & ⋯ & 285.6632 & 288.2477 & 285.8346 & 287.1861 & 307.5900 & 304.3100 & 310.4958 & 304.4 & 304.4 & 303.5\\\\\n",
       "\t4 & 2012-10-01 15:00:00 & 284.6270 & 282.0919 & 289.4606 & 281.7898 & 291.8628 & 291.5434 & 293.3922 & 296.6315 & 285.2340 & ⋯ & 285.7568 & 288.3269 & 285.8478 & 287.2317 & 307.3915 & 304.2818 & 310.4115 & 304.4 & 304.4 & 303.5\\\\\n",
       "\t5 & 2012-10-01 16:00:00 & 284.6250 & 282.1005 & 289.4462 & 281.7824 & 291.8575 & 291.5532 & 293.3812 & 296.6545 & 285.3133 & ⋯ & 285.8504 & 288.4062 & 285.8609 & 287.2773 & 307.1452 & 304.2380 & 310.3273 & 304.4 & 304.4 & 303.5\\\\\n",
       "\t6 & 2012-10-01 17:00:00 & 284.6229 & 282.1091 & 289.4319 & 281.7751 & 291.8522 & 291.5631 & 293.3702 & 296.6774 & 285.3927 & ⋯ & 285.9441 & 288.4855 & 285.8741 & 287.3228 & 306.8989 & 304.1942 & 310.2431 & 304.4 & 304.4 & 303.5\\\\\n",
       "\\end{tabular}\n"
      ],
      "text/markdown": [
       "\n",
       "A data.frame: 6 × 37\n",
       "\n",
       "| <!--/--> | datetime &lt;chr&gt; | Vancouver &lt;dbl&gt; | Portland &lt;dbl&gt; | San.Francisco &lt;dbl&gt; | Seattle &lt;dbl&gt; | Los.Angeles &lt;dbl&gt; | San.Diego &lt;dbl&gt; | Las.Vegas &lt;dbl&gt; | Phoenix &lt;dbl&gt; | Albuquerque &lt;dbl&gt; | ⋯ ⋯ | Philadelphia &lt;dbl&gt; | New.York &lt;dbl&gt; | Montreal &lt;dbl&gt; | Boston &lt;dbl&gt; | Beersheba &lt;dbl&gt; | Tel.Aviv.District &lt;dbl&gt; | Eilat &lt;dbl&gt; | Haifa &lt;dbl&gt; | Nahariyya &lt;dbl&gt; | Jerusalem &lt;dbl&gt; |\n",
       "|---|---|---|---|---|---|---|---|---|---|---|---|---|---|---|---|---|---|---|---|---|---|\n",
       "| 1 | 2012-10-01 12:00:00 |       NA |       NA |       NA |       NA |       NA |       NA |       NA |       NA |       NA | ⋯ |       NA |       NA |       NA |       NA |       NA |       NA | 309.1000 |    NA |    NA |    NA |\n",
       "| 2 | 2012-10-01 13:00:00 | 284.6300 | 282.0800 | 289.4800 | 281.8000 | 291.8700 | 291.5300 | 293.4100 | 296.6000 | 285.1200 | ⋯ | 285.6300 | 288.2200 | 285.8300 | 287.1700 | 307.5900 | 305.4700 | 310.5800 | 304.4 | 304.4 | 303.5 |\n",
       "| 3 | 2012-10-01 14:00:00 | 284.6290 | 282.0833 | 289.4750 | 281.7972 | 291.8682 | 291.5335 | 293.4031 | 296.6085 | 285.1546 | ⋯ | 285.6632 | 288.2477 | 285.8346 | 287.1861 | 307.5900 | 304.3100 | 310.4958 | 304.4 | 304.4 | 303.5 |\n",
       "| 4 | 2012-10-01 15:00:00 | 284.6270 | 282.0919 | 289.4606 | 281.7898 | 291.8628 | 291.5434 | 293.3922 | 296.6315 | 285.2340 | ⋯ | 285.7568 | 288.3269 | 285.8478 | 287.2317 | 307.3915 | 304.2818 | 310.4115 | 304.4 | 304.4 | 303.5 |\n",
       "| 5 | 2012-10-01 16:00:00 | 284.6250 | 282.1005 | 289.4462 | 281.7824 | 291.8575 | 291.5532 | 293.3812 | 296.6545 | 285.3133 | ⋯ | 285.8504 | 288.4062 | 285.8609 | 287.2773 | 307.1452 | 304.2380 | 310.3273 | 304.4 | 304.4 | 303.5 |\n",
       "| 6 | 2012-10-01 17:00:00 | 284.6229 | 282.1091 | 289.4319 | 281.7751 | 291.8522 | 291.5631 | 293.3702 | 296.6774 | 285.3927 | ⋯ | 285.9441 | 288.4855 | 285.8741 | 287.3228 | 306.8989 | 304.1942 | 310.2431 | 304.4 | 304.4 | 303.5 |\n",
       "\n"
      ],
      "text/plain": [
       "  datetime            Vancouver Portland San.Francisco Seattle  Los.Angeles\n",
       "1 2012-10-01 12:00:00       NA        NA       NA            NA       NA   \n",
       "2 2012-10-01 13:00:00 284.6300  282.0800 289.4800      281.8000 291.8700   \n",
       "3 2012-10-01 14:00:00 284.6290  282.0833 289.4750      281.7972 291.8682   \n",
       "4 2012-10-01 15:00:00 284.6270  282.0919 289.4606      281.7898 291.8628   \n",
       "5 2012-10-01 16:00:00 284.6250  282.1005 289.4462      281.7824 291.8575   \n",
       "6 2012-10-01 17:00:00 284.6229  282.1091 289.4319      281.7751 291.8522   \n",
       "  San.Diego Las.Vegas Phoenix  Albuquerque ⋯ Philadelphia New.York Montreal\n",
       "1       NA        NA        NA       NA    ⋯       NA           NA       NA\n",
       "2 291.5300  293.4100  296.6000 285.1200    ⋯ 285.6300     288.2200 285.8300\n",
       "3 291.5335  293.4031  296.6085 285.1546    ⋯ 285.6632     288.2477 285.8346\n",
       "4 291.5434  293.3922  296.6315 285.2340    ⋯ 285.7568     288.3269 285.8478\n",
       "5 291.5532  293.3812  296.6545 285.3133    ⋯ 285.8504     288.4062 285.8609\n",
       "6 291.5631  293.3702  296.6774 285.3927    ⋯ 285.9441     288.4855 285.8741\n",
       "  Boston   Beersheba Tel.Aviv.District Eilat    Haifa Nahariyya Jerusalem\n",
       "1       NA       NA        NA          309.1000    NA    NA        NA    \n",
       "2 287.1700 307.5900  305.4700          310.5800 304.4 304.4     303.5    \n",
       "3 287.1861 307.5900  304.3100          310.4958 304.4 304.4     303.5    \n",
       "4 287.2317 307.3915  304.2818          310.4115 304.4 304.4     303.5    \n",
       "5 287.2773 307.1452  304.2380          310.3273 304.4 304.4     303.5    \n",
       "6 287.3228 306.8989  304.1942          310.2431 304.4 304.4     303.5    "
      ]
     },
     "metadata": {},
     "output_type": "display_data"
    }
   ],
   "source": [
    "#read and display the original data\n",
    "temperature <- read.csv(\"temperature.csv\")\n",
    "head(temperature)"
   ]
  },
  {
   "cell_type": "code",
   "execution_count": 3,
   "id": "aad87ee6-6175-49ad-8aa4-dd1d32e36be0",
   "metadata": {},
   "outputs": [
    {
     "ename": "ERROR",
     "evalue": "Error in head(temp): object 'temp' not found\n",
     "output_type": "error",
     "traceback": [
      "Error in head(temp): object 'temp' not found\nTraceback:\n",
      "1. head(temp)"
     ]
    }
   ],
   "source": [
    "#Data Clean up\n",
    "#select data only from San Fransisco, Denver and New York\n",
    "#filter out data that are not available\n",
    "#change the temperature unit from Kelvin to Celcius\n",
    "temp_clean <- temperature %>%\n",
    "select(San.Francisco, Denver, New.York)%>%\n",
    "filter(San.Francisco !=\"NA\" , Denver !=\"NA\" , New.York !=\"NA\")%>%\n",
    "mutate(San.Francisco = San.Francisco - 273.15, Denver= Denver - 273.15, New.York = New.York - 273.15)\n",
    "head(temp_clean)"
   ]
  },
  {
   "cell_type": "code",
   "execution_count": null,
   "id": "b8fcfcad-51a8-48c3-86d8-4d91baf70eac",
   "metadata": {},
   "outputs": [],
   "source": [
    "#number of row in our clean data\n",
    "# there are 4460 data points for each cities\n",
    "nrow(temp_clean)"
   ]
  },
  {
   "cell_type": "code",
   "execution_count": null,
   "id": "42da8cbf-3fcc-409c-924f-9affeeff7995",
   "metadata": {},
   "outputs": [],
   "source": [
    "# Mean and Standard Deviation of temperature in each city\n",
    "mean <- temp_clean %>%\n",
    "summarize(mean_s =mean(San.Francisco),\n",
    "          mean_d =mean(Denver), \n",
    "          mean_n =mean(New.York),\n",
    "         sd_s=sd(San.Francisco),\n",
    "         sd_d=sd(Denver),\n",
    "         sd_n=sd(New.York))\n",
    "mean"
   ]
  },
  {
   "cell_type": "code",
   "execution_count": null,
   "id": "8cb44617-bf6b-4406-9321-a4b062b3b867",
   "metadata": {},
   "outputs": [],
   "source": [
    "#make new variable that selects only the temperature column of every city\n",
    "temp_s <- temp_clean %>%\n",
    "select(San.Francisco)\n",
    "temp_d <- temp_clean %>%\n",
    "select(Denver)\n",
    "temp_n <- temp_clean %>%\n",
    "select(New.York)"
   ]
  },
  {
   "cell_type": "code",
   "execution_count": null,
   "id": "41d34e80-a2a9-432b-bf1c-e8a11cbd4ca7",
   "metadata": {},
   "outputs": [],
   "source": [
    "#Bootstrap samples of each city\n",
    "set.seed(1)\n",
    "sample_s <- temp_s %>%\n",
    "rep_sample_n(size=400)\n",
    "sample_d <- temp_d %>%\n",
    "rep_sample_n(size=400)\n",
    "sample_n <- temp_n %>%\n",
    "rep_sample_n(size=400)\n",
    "\n",
    "resampled_s <- sample_s %>%\n",
    "rep_sample_n(size=400, reps=3000, replace= TRUE)\n",
    "resampled_d <- sample_d %>%\n",
    "rep_sample_n(size=400, reps=3000, replace= TRUE)\n",
    "resampled_n <- sample_n %>%\n",
    "rep_sample_n(size=400, reps=3000, replace= TRUE)\n",
    "head(resampled_s)\n",
    "head(resampled_d)\n",
    "head(resampled_n)"
   ]
  },
  {
   "cell_type": "code",
   "execution_count": null,
   "id": "e9204a6a-5bd6-476a-bf1b-35322528543d",
   "metadata": {},
   "outputs": [],
   "source": [
    "#calculation of bootstrap distribution mean and their respective 90% CI \n",
    "#San Fransisco\n",
    "distribution_s<- resampled_s %>%\n",
    "group_by(replicate)%>%\n",
    "summarize(mean_s2=mean(San.Francisco), \n",
    "          sd_s2=sd(San.Francisco))\n",
    "\n",
    "bmean_s<-mean(distribution_s$mean_s2)\n",
    "\n",
    "ci_s <- \n",
    "    distribution_s %>% \n",
    "    summarize(ci_lower = quantile(mean_s2, 0.05),\n",
    "              ci_upper = quantile(mean_s2, 0.95))\n",
    "\n",
    "head(distribution_s)\n",
    "bmean_s\n",
    "ci_s\n",
    "\n",
    "\n",
    "\n",
    "\n",
    "#Denver\n",
    "distribution_d<- resampled_d %>%\n",
    "group_by(replicate)%>%\n",
    "summarize(mean_d2=mean(Denver), \n",
    "          sd_d2=sd(Denver))\n",
    "\n",
    "bmean_d<-mean(distribution_d$mean_d2)\n",
    "\n",
    "ci_d <- \n",
    "    distribution_d %>% \n",
    "    summarize(ci_lower = quantile(mean_d2, 0.05),\n",
    "              ci_upper = quantile(mean_d2, 0.95))\n",
    "\n",
    "head(distribution_d)\n",
    "bmean_d\n",
    "ci_d\n",
    "\n",
    "\n",
    "\n",
    "#New York\n",
    "distribution_n<- resampled_n %>%\n",
    "group_by(replicate)%>%\n",
    "summarize(mean_n2=mean(New.York), \n",
    "          sd_n2=sd(New.York))\n",
    "\n",
    "bmean_n<-mean(distribution_n$mean_n2)\n",
    "\n",
    "\n",
    "\n",
    "ci_n <-distribution_n %>% \n",
    "    summarize(ci_lower = quantile(mean_n2, 0.05),\n",
    "              ci_upper = quantile(mean_n2, 0.95))\n",
    "\n",
    "head(distribution_n)\n",
    "bmean_n\n",
    "ci_n"
   ]
  },
  {
   "cell_type": "code",
   "execution_count": null,
   "id": "44c3e6b7-415c-4f67-a8e3-dbffcde98ea1",
   "metadata": {},
   "outputs": [],
   "source": [
    "#visualize the sampling distribution mean \n",
    "s_plot<- distribution_s %>%\n",
    "ggplot()+\n",
    "geom_histogram(aes(x= mean_s2))+\n",
    "ggtitle(\"bootstrap distribution of average temperature in San Francisco\")+\n",
    "xlab(\"average temperature(celsius)\")+\n",
    "geom_vline(xintercept = bmean_s,\n",
    "               size = 1,\n",
    "               colour = \"red\")+\n",
    "annotate(\"rect\", xmin = ci_s$ci_lower, xmax = ci_s$ci_upper, ymin = 0, ymax = Inf,\n",
    "             fill = \"deepskyblue\",\n",
    "             alpha = 0.3)\n",
    "s_plot\n",
    "\n",
    "d_plot<- distribution_d %>%\n",
    "ggplot()+\n",
    "geom_histogram(aes(x= mean_d2))+\n",
    "ggtitle(\"bootstrap distribution of average temperature in Denver\")+\n",
    "xlab(\"average temperature(celsius)\") +\n",
    "geom_vline(xintercept = bmean_d,\n",
    "               size = 1,\n",
    "               colour = \"red\")+\n",
    "annotate(\"rect\", xmin = ci_d$ci_lower, xmax = ci_d$ci_upper, ymin = 0, ymax = Inf,\n",
    "             fill = \"deepskyblue\",\n",
    "             alpha = 0.3)\n",
    "d_plot\n",
    "\n",
    "n_plot<- distribution_n %>%\n",
    "ggplot()+\n",
    "geom_histogram(aes(x= mean_n2))+\n",
    "ggtitle(\"bootstrap distribution of average temperature in New York\")+\n",
    "xlab(\"average temperature(celsius)\") +\n",
    "geom_vline(xintercept = bmean_n,\n",
    "               size = 1,\n",
    "               colour = \"red\")+\n",
    "annotate(\"rect\", xmin = ci_n$ci_lower, xmax = ci_n$ci_upper, ymin = 0, ymax = Inf,\n",
    "             fill = \"deepskyblue\",\n",
    "             alpha = 0.3)\n",
    "n_plot\n"
   ]
  },
  {
   "cell_type": "code",
   "execution_count": null,
   "id": "f678d1f6-c191-4637-9c00-3f37565b724a",
   "metadata": {},
   "outputs": [],
   "source": [
    "#boxplot\n",
    "cities <- c(\"SF\", \"Denver\", \"NY\")\n",
    "\n",
    "bp_s <-rename(distribution_s, dist_mean = mean_s2, dist_sd = sd_s2) %>% mutate(city = cities[1]) \n",
    "bp_d <-rename(distribution_d, dist_mean = mean_d2, dist_sd = sd_d2) %>% mutate(city = cities[2]) \n",
    "bp_n <- rename(distribution_n, dist_mean = mean_n2, dist_sd = sd_n2) %>% mutate(city = cities[3]) \n",
    "bp_data <- rbind(bp_s, bp_d, bp_n)\n",
    "\n",
    "ggplot(bp_data, aes(x=city, y=dist_mean, fill=city)) + \n",
    "    ggtitle(\"Boxplot of Sampling distribution mean\") +\n",
    "    geom_boxplot(alpha=0.3) +\n",
    "    theme_classic() "
   ]
  },
  {
   "cell_type": "markdown",
   "id": "2999a798-a46b-4020-8c15-5d4f7543c20c",
   "metadata": {},
   "source": [
    "# Methods\n",
    "\"good things about this report\" <br>\n",
    "Since our project will involves 3 different cities, we are going to use One-way Anova to see if there is a statistical difference between their mean temperatures. <br> <br>\n",
    "Our Hypothesis will be <br>\n",
    "#### $H_0: \\mu = \\mu_s = \\mu_d = \\mu_n$ vs $H_A:$ at least one of the city have different temperature mean <br> <br>\n"
   ]
  },
  {
   "cell_type": "markdown",
   "id": "4958496d-d1eb-49ef-a90a-619957735de9",
   "metadata": {},
   "source": [
    "### Vanessa's Personal Note\n",
    "The idea behind the ANOVA : if the average variation between groups is large enough compared to the average variation within groups, then you could conclude that at least one group mean is not equal to the others.\n",
    "1. Between variation: comparing the mean of each group with the overall mean of the data—so individual data points don’t matter quite as much as just comparing group means\n",
    "2. within variation: the variation of each observation from its group mean\n",
    "# Assumptions of anova\n",
    "1. Independence of the observations. : Each subject should belong to only one group.There is no relationship between the observations in each group. Having repeated measures for the same participants is not allowed.\n",
    "2. No significant outliers in any cell of the design : draw boxplot\n",
    "3. Normality. the data for each design cell should be approximately normally distributed. :\n",
    "4. Homogeneity of variances. The variance of the outcome variable should be equal in every cell of the design. : \n"
   ]
  },
  {
   "cell_type": "markdown",
   "id": "eba97245-d4cf-4fee-8b55-3fa05fd600be",
   "metadata": {},
   "source": [
    "### Limitation\n",
    "- One way ANOVA can only determine if two or more groups differ from each other. But it doesn't specify which gropu are different from one another."
   ]
  },
  {
   "cell_type": "code",
   "execution_count": null,
   "id": "b2f4b9dc-60e8-44a4-926b-3b91add903cd",
   "metadata": {},
   "outputs": [],
   "source": []
  }
 ],
 "metadata": {
  "kernelspec": {
   "display_name": "R",
   "language": "R",
   "name": "ir"
  },
  "language_info": {
   "codemirror_mode": "r",
   "file_extension": ".r",
   "mimetype": "text/x-r-source",
   "name": "R",
   "pygments_lexer": "r",
   "version": "4.1.3"
  }
 },
 "nbformat": 4,
 "nbformat_minor": 5
}
